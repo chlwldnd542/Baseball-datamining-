{
 "cells": [
  {
   "cell_type": "code",
   "execution_count": 63,
   "id": "bb543b27",
   "metadata": {},
   "outputs": [
    {
     "name": "stdout",
     "output_type": "stream",
     "text": [
      "Requirement already satisfied: selenium in c:\\programdata\\anaconda3\\lib\\site-packages (4.20.0)\n",
      "Requirement already satisfied: urllib3<3,>=1.26 in c:\\programdata\\anaconda3\\lib\\site-packages (from urllib3[socks]<3,>=1.26->selenium) (2.0.7)\n",
      "Requirement already satisfied: trio~=0.17 in c:\\programdata\\anaconda3\\lib\\site-packages (from selenium) (0.25.0)\n",
      "Requirement already satisfied: trio-websocket~=0.9 in c:\\programdata\\anaconda3\\lib\\site-packages (from selenium) (0.11.1)\n",
      "Requirement already satisfied: certifi>=2021.10.8 in c:\\programdata\\anaconda3\\lib\\site-packages (from selenium) (2024.2.2)\n",
      "Requirement already satisfied: typing_extensions>=4.9.0 in c:\\programdata\\anaconda3\\lib\\site-packages (from selenium) (4.9.0)\n",
      "Requirement already satisfied: attrs>=23.2.0 in c:\\programdata\\anaconda3\\lib\\site-packages (from trio~=0.17->selenium) (23.2.0)\n",
      "Requirement already satisfied: sortedcontainers in c:\\programdata\\anaconda3\\lib\\site-packages (from trio~=0.17->selenium) (2.4.0)\n",
      "Requirement already satisfied: idna in c:\\programdata\\anaconda3\\lib\\site-packages (from trio~=0.17->selenium) (3.4)\n",
      "Requirement already satisfied: outcome in c:\\programdata\\anaconda3\\lib\\site-packages (from trio~=0.17->selenium) (1.3.0.post0)\n",
      "Requirement already satisfied: sniffio>=1.3.0 in c:\\programdata\\anaconda3\\lib\\site-packages (from trio~=0.17->selenium) (1.3.0)\n",
      "Requirement already satisfied: cffi>=1.14 in c:\\programdata\\anaconda3\\lib\\site-packages (from trio~=0.17->selenium) (1.16.0)\n",
      "Requirement already satisfied: wsproto>=0.14 in c:\\programdata\\anaconda3\\lib\\site-packages (from trio-websocket~=0.9->selenium) (1.2.0)\n",
      "Requirement already satisfied: pysocks!=1.5.7,<2.0,>=1.5.6 in c:\\programdata\\anaconda3\\lib\\site-packages (from urllib3[socks]<3,>=1.26->selenium) (1.7.1)\n",
      "Requirement already satisfied: pycparser in c:\\programdata\\anaconda3\\lib\\site-packages (from cffi>=1.14->trio~=0.17->selenium) (2.21)\n",
      "Requirement already satisfied: h11<1,>=0.9.0 in c:\\programdata\\anaconda3\\lib\\site-packages (from wsproto>=0.14->trio-websocket~=0.9->selenium) (0.14.0)\n"
     ]
    },
    {
     "data": {
      "text/plain": [
       "'4.20.0'"
      ]
     },
     "execution_count": 63,
     "metadata": {},
     "output_type": "execute_result"
    }
   ],
   "source": [
    "!pip install selenium\n",
    "import selenium\n",
    "selenium.__version__"
   ]
  },
  {
   "cell_type": "code",
   "execution_count": 66,
   "id": "2850fae2",
   "metadata": {},
   "outputs": [
    {
     "name": "stdout",
     "output_type": "stream",
     "text": [
      "Requirement already satisfied: selenium in c:\\programdata\\anaconda3\\lib\\site-packages (4.20.0)\n",
      "Requirement already satisfied: webdriver_manager in c:\\programdata\\anaconda3\\lib\\site-packages (4.0.1)\n",
      "Requirement already satisfied: urllib3<3,>=1.26 in c:\\programdata\\anaconda3\\lib\\site-packages (from urllib3[socks]<3,>=1.26->selenium) (2.0.7)\n",
      "Requirement already satisfied: trio~=0.17 in c:\\programdata\\anaconda3\\lib\\site-packages (from selenium) (0.25.0)\n",
      "Requirement already satisfied: trio-websocket~=0.9 in c:\\programdata\\anaconda3\\lib\\site-packages (from selenium) (0.11.1)\n",
      "Requirement already satisfied: certifi>=2021.10.8 in c:\\programdata\\anaconda3\\lib\\site-packages (from selenium) (2024.2.2)\n",
      "Requirement already satisfied: typing_extensions>=4.9.0 in c:\\programdata\\anaconda3\\lib\\site-packages (from selenium) (4.9.0)\n",
      "Requirement already satisfied: requests in c:\\programdata\\anaconda3\\lib\\site-packages (from webdriver_manager) (2.31.0)\n",
      "Requirement already satisfied: python-dotenv in c:\\programdata\\anaconda3\\lib\\site-packages (from webdriver_manager) (0.21.0)\n",
      "Requirement already satisfied: packaging in c:\\programdata\\anaconda3\\lib\\site-packages (from webdriver_manager) (23.1)\n",
      "Requirement already satisfied: attrs>=23.2.0 in c:\\programdata\\anaconda3\\lib\\site-packages (from trio~=0.17->selenium) (23.2.0)\n",
      "Requirement already satisfied: sortedcontainers in c:\\programdata\\anaconda3\\lib\\site-packages (from trio~=0.17->selenium) (2.4.0)\n",
      "Requirement already satisfied: idna in c:\\programdata\\anaconda3\\lib\\site-packages (from trio~=0.17->selenium) (3.4)\n",
      "Requirement already satisfied: outcome in c:\\programdata\\anaconda3\\lib\\site-packages (from trio~=0.17->selenium) (1.3.0.post0)\n",
      "Requirement already satisfied: sniffio>=1.3.0 in c:\\programdata\\anaconda3\\lib\\site-packages (from trio~=0.17->selenium) (1.3.0)\n",
      "Requirement already satisfied: cffi>=1.14 in c:\\programdata\\anaconda3\\lib\\site-packages (from trio~=0.17->selenium) (1.16.0)\n",
      "Requirement already satisfied: wsproto>=0.14 in c:\\programdata\\anaconda3\\lib\\site-packages (from trio-websocket~=0.9->selenium) (1.2.0)\n",
      "Requirement already satisfied: pysocks!=1.5.7,<2.0,>=1.5.6 in c:\\programdata\\anaconda3\\lib\\site-packages (from urllib3[socks]<3,>=1.26->selenium) (1.7.1)\n",
      "Requirement already satisfied: charset-normalizer<4,>=2 in c:\\programdata\\anaconda3\\lib\\site-packages (from requests->webdriver_manager) (2.0.4)\n",
      "Requirement already satisfied: pycparser in c:\\programdata\\anaconda3\\lib\\site-packages (from cffi>=1.14->trio~=0.17->selenium) (2.21)\n",
      "Requirement already satisfied: h11<1,>=0.9.0 in c:\\programdata\\anaconda3\\lib\\site-packages (from wsproto>=0.14->trio-websocket~=0.9->selenium) (0.14.0)\n"
     ]
    }
   ],
   "source": [
    "!pip install selenium webdriver_manager\n",
    "from selenium import webdriver\n",
    "from selenium.webdriver.chrome.service import Service\n",
    "from webdriver_manager.chrome import ChromeDriverManager\n",
    "from selenium.webdriver.common.by import By\n",
    "service = Service(executable_path = ChromeDriverManager().install())\n",
    "options = webdriver.ChromeOptions()\n",
    "options.add_argument('--no-sandbox')"
   ]
  },
  {
   "cell_type": "code",
   "execution_count": 74,
   "id": "e7297ff4",
   "metadata": {},
   "outputs": [],
   "source": [
    "# 시작 화면 들어가기\n",
    "import time \n",
    "st = 1\n",
    "from selenium import webdriver\n",
    "driver = webdriver.Chrome(service = service)\n",
    "time.sleep(st)\n",
    "driver.get('https://www.koreabaseball.com/Record/TeamRank/TeamRankDaily.aspx/')   # kbo 홈페이지 들어가기\n",
    "time.sleep(st)\n",
    "\n",
    "month_button = driver.find_element(By.XPATH, \"/html/body/form/div[3]/section/div/div/div[2]/div[3]/div[1]/span[3]/img\")   # 달력 클릭\n",
    "month_button.click()\n",
    "\n",
    "year_button = driver.find_element(By.XPATH, \"/html/body/div/div/div/select[2]\")     #연도 아래 화살표\n",
    "year_button.click()\n",
    "\n",
    "option_element = driver.find_element(By.XPATH,\"/html/body/div/div/div/select[2]/option[13]\")  # 2022년 설정\n",
    "option_element.click()  # 해당 옵션을 클릭하여 선택합니다.\n",
    "\n",
    "m_button = driver.find_element(By.XPATH, \"/html/body/div/div/div/select[1]\")   # 달 아래 화살표\n",
    "m_button.click()\n",
    "\n",
    "option_element = driver.find_element(By.XPATH,\"/html/body/div/div/div/select[1]/option[4]\")  # 4월설정\n",
    "option_element.click()  # 해당 옵션을 클릭하여 선택합니다.\n",
    "\n",
    "d_button = driver.find_element(By.XPATH, \"/html/body/div/table/tbody/tr[1]/td[7]/a\")   # 2일 선택\n",
    "d_button.click()\n",
    "\n",
    "\n",
    "\n",
    "\n",
    "time.sleep(st)\n"
   ]
  },
  {
   "cell_type": "code",
   "execution_count": 75,
   "id": "aee9a488",
   "metadata": {},
   "outputs": [],
   "source": [
    "from selenium import webdriver\n",
    "from bs4 import BeautifulSoup\n",
    "import pandas as pd\n",
    "import time\n",
    "\n",
    "all_table_data = []\n",
    "\n",
    "# 288번 반복합니다. 반복횟수 설정\n",
    "for i in range(168):\n",
    "    time.sleep(1)\n",
    "\n",
    "    # 표 데이터를 담을 리스트를 생성합니다.\n",
    "    table_data = []\n",
    "    date_info = []\n",
    "\n",
    "    # 표를 파싱합니다.\n",
    "    table = driver.find_element(By.XPATH,'/html/body/form/div[3]/section/div/div/div[2]/div[3]/table')\n",
    "    table_html = table.get_attribute('outerHTML')\n",
    "\n",
    "    # BeautifulSoup을 사용하여 표를 파싱합니다.\n",
    "    soup = BeautifulSoup(table_html, 'html.parser')\n",
    "\n",
    "    # 표의 날짜 정보를 추출합니다.\n",
    "    date_element = driver.find_element(By.XPATH,'/html/body/form/div[3]/section/div/div/div[2]/div[3]/div[1]/span[2]/span')\n",
    "    date_info.append(date_element.text)\n",
    "\n",
    "    # 표의 각 행을 반복하면서 데이터를 추출합니다.\n",
    "    for row in soup.find_all('tr'):\n",
    "        row_data = []\n",
    "        for cell in row.find_all(['td', 'th']):\n",
    "            row_data.append(cell.get_text().strip())\n",
    "        table_data.append(row_data)\n",
    "\n",
    "    # 추출된 데이터를 데이터프레임으로 변환합니다.\n",
    "    df = pd.DataFrame(table_data[1:], columns=table_data[0])\n",
    "\n",
    "    # 빈 로우를 추가합니다.\n",
    "    df.loc[len(df)] = [None] * len(df.columns)\n",
    "\n",
    "    # 날짜 정보를 데이터프레임에 추가합니다.\n",
    "    df.insert(0, 'Date', date_info[0])\n",
    "\n",
    "    # 데이터를 리스트에 추가합니다.\n",
    "    all_table_data.append(df)\n",
    "\n",
    "    # 다음 버튼을 클릭합니다.\n",
    "    next_button = driver.find_element(By.XPATH, \"/html/body/form/div[3]/section/div/div/div[2]/div[3]/div[1]/span[4]/input\")   # 다음 버튼\n",
    "    next_button.click()\n",
    "\n",
    "    time.sleep(1)\n",
    "\n",
    "# 모든 데이터프레임을 하나로 병합합니다.\n",
    "final_df = pd.concat(all_table_data, ignore_index=True)\n",
    "\n",
    "# 모든 데이터를 하나의 엑셀 파일로 저장합니다.\n",
    "final_df.to_excel('2023년 누적순위.xlsx', index=False)\n"
   ]
  },
  {
   "cell_type": "code",
   "execution_count": null,
   "id": "0eadd066",
   "metadata": {},
   "outputs": [],
   "source": []
  }
 ],
 "metadata": {
  "kernelspec": {
   "display_name": "Python 3 (ipykernel)",
   "language": "python",
   "name": "python3"
  },
  "language_info": {
   "codemirror_mode": {
    "name": "ipython",
    "version": 3
   },
   "file_extension": ".py",
   "mimetype": "text/x-python",
   "name": "python",
   "nbconvert_exporter": "python",
   "pygments_lexer": "ipython3",
   "version": "3.8.18"
  }
 },
 "nbformat": 4,
 "nbformat_minor": 5
}
