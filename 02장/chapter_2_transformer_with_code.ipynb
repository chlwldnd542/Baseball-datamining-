{
  "cells": [
    {
      "cell_type": "markdown",
      "metadata": {
        "id": "mr7FmYqAi6y2"
      },
      "source": [
        "## 예제 2.1 토큰화 코드\n",
        "# 띄어쓰기를 기준으로"
      ]
    },
    {
      "cell_type": "code",
      "execution_count": 1,
      "metadata": {
        "colab": {
          "base_uri": "https://localhost:8080/"
        },
        "id": "f3K1on7SMnXj",
        "outputId": "68394ebf-e075-4964-d48a-8a510907be3f"
      },
      "outputs": [
        {
          "output_type": "stream",
          "name": "stdout",
          "text": [
            "input_text_list:  ['나는', '오늘', '커피를', '먹었다']\n",
            "str2idx:  {'나는': 0, '오늘': 1, '커피를': 2, '먹었다': 3}\n",
            "idx2str:  {0: '나는', 1: '오늘', 2: '커피를', 3: '먹었다'}\n",
            "input_ids:  [0, 1, 2, 3]\n"
          ]
        }
      ],
      "source": [
        "# 띄어쓰기 단위로 분리\n",
        "input_text = \"나는 오늘 커피를 먹었다\"\n",
        "input_text_list = input_text.split()\n",
        "print(\"input_text_list: \", input_text_list)\n",
        "\n",
        "# 토큰 -> 아이디 딕셔너리와 아이디 -> 토큰 딕셔너리 만들기\n",
        "str2idx = {word:idx for idx, word in enumerate(input_text_list)}\n",
        "idx2str = {idx:word for idx, word in enumerate(input_text_list)}\n",
        "print(\"str2idx: \", str2idx)\n",
        "print(\"idx2str: \", idx2str)\n",
        "\n",
        "# 토큰을 토큰 아이디로 변환\n",
        "input_ids = [str2idx[word] for word in input_text_list]\n",
        "print(\"input_ids: \", input_ids)"
      ]
    },
    {
      "cell_type": "markdown",
      "metadata": {
        "id": "CX95psBGjELL"
      },
      "source": [
        "## 예제 2.2 토큰 아이디에서 벡터로 변환\n",
        "# 토큰을 임베딩으로 변환(토큰 임베딩)\n"
      ]
    },
    {
      "cell_type": "code",
      "execution_count": 3,
      "metadata": {
        "colab": {
          "base_uri": "https://localhost:8080/"
        },
        "id": "dCKTtOt9NvFA",
        "outputId": "24084329-259f-46f9-a361-9c4eb0423f34"
      },
      "outputs": [
        {
          "output_type": "execute_result",
          "data": {
            "text/plain": [
              "torch.Size([1, 4, 16])"
            ]
          },
          "metadata": {},
          "execution_count": 3
        }
      ],
      "source": [
        "import torch\n",
        "import torch.nn as nn\n",
        "\n",
        "# 차원설정\n",
        "embedding_dim = 16\n",
        "embed_layer = nn.Embedding(len(str2idx), embedding_dim)\n",
        "\n",
        "input_embeddings = embed_layer(torch.tensor(input_ids)) # (4, 16)\n",
        "input_embeddings = input_embeddings.unsqueeze(0) # (1, 4, 16)\n",
        "input_embeddings.shape\n",
        "# 한개의 문장이 4개의 토큰을 가지고 16차원의 임베딩이 생성\n",
        "# 입력 토큰 아이디를 16차원의 임의의 숫자 집합으로 변환, 의미는 부여 X"
      ]
    },
    {
      "cell_type": "markdown",
      "metadata": {
        "id": "FwClYMSSjLjp"
      },
      "source": [
        "## 예제 2.3 절대적 위치 인코딩\n",
        "### 입력 토큰의 위치에 따라 고정된 임베딩을 더해준다."
      ]
    },
    {
      "cell_type": "code",
      "execution_count": 4,
      "metadata": {
        "colab": {
          "base_uri": "https://localhost:8080/"
        },
        "id": "ws1A-ALkjLWH",
        "outputId": "35a0ff04-60e4-489a-e387-a36fc4115a7a"
      },
      "outputs": [
        {
          "output_type": "execute_result",
          "data": {
            "text/plain": [
              "torch.Size([1, 4, 16])"
            ]
          },
          "metadata": {},
          "execution_count": 4
        }
      ],
      "source": [
        "embedding_dim = 16\n",
        "max_position = 12\n",
        "# 토큰 임베딩 층 생성\n",
        "embed_layer = nn.Embedding(len(str2idx), embedding_dim)\n",
        "# 위치 인코딩 층 생성\n",
        "position_embed_layer = nn.Embedding(max_position, embedding_dim)\n",
        "\n",
        "position_ids = torch.arange(len(input_ids), dtype=torch.long).unsqueeze(0)\n",
        "position_encodings = position_embed_layer(position_ids)\n",
        "token_embeddings = embed_layer(torch.tensor(input_ids)) # (4, 16)\n",
        "token_embeddings = token_embeddings.unsqueeze(0) # (1, 4, 16)\n",
        "# 토큰 임베딩과 위치 인코딩을 더해 최종 입력 임베딩 생성\n",
        "input_embeddings = token_embeddings + position_encodings\n",
        "input_embeddings.shape"
      ]
    },
    {
      "cell_type": "markdown",
      "metadata": {
        "id": "0MBYHKRMkCDs"
      },
      "source": [
        "## 예제 2.4 쿼리, 키, 값 벡터를 만드는 nn.Linear 층\n",
        "embedding_dim 16차원의 입력벡터를 head_dim 16차원으로 바꾸기\n",
        "\n",
        "- query는 찾고 싶은 정보\n",
        "- key는 각 단어 혹은 문서가 가진 특징\n",
        "- values는 토큰의 진짜 내용, 문서를 제공할때 문서 값"
      ]
    },
    {
      "cell_type": "code",
      "execution_count": 10,
      "metadata": {
        "id": "Rse5Xy6_jhok",
        "colab": {
          "base_uri": "https://localhost:8080/"
        },
        "outputId": "3c5df691-f60a-4420-ea73-61033483b0aa"
      },
      "outputs": [
        {
          "output_type": "execute_result",
          "data": {
            "text/plain": [
              "torch.Size([1, 4, 16])"
            ]
          },
          "metadata": {},
          "execution_count": 10
        }
      ],
      "source": [
        "head_dim = 16\n",
        "\n",
        "# 쿼리, 키, 값을 계산하기 위한 변환\n",
        "weight_q = nn.Linear(embedding_dim, head_dim)\n",
        "weight_k = nn.Linear(embedding_dim, head_dim)\n",
        "weight_v = nn.Linear(embedding_dim, head_dim)\n",
        "# 변환 수행\n",
        "querys = weight_q(input_embeddings) # (1, 4, 16)\n",
        "keys = weight_k(input_embeddings) # (1, 4, 16)\n",
        "values = weight_v(input_embeddings) # (1, 4, 16)\n",
        "\n",
        "querys.shape\n"
      ]
    },
    {
      "cell_type": "markdown",
      "metadata": {
        "id": "wfitct-lkSP2"
      },
      "source": [
        "## 예제 2.5. 스케일 점곱 방식의 어텐션\n",
        "1. 쿼리와 키 값을 곱\n",
        "2. 분산이 커지는 것을 방지하기 위해 임베딩 차원의 수(dim_k)의 제곱근으로 나눈다.\n",
        "3. 스코어가 1이 되게 하기위해 소프트맥스를 취해 가중치로 바꾼다\n",
        "4. 가중치와 값을 곱해 입력과 동일한 형태의 출력을 반환"
      ]
    },
    {
      "cell_type": "code",
      "execution_count": 9,
      "metadata": {
        "id": "nftEA3lFkSwl"
      },
      "outputs": [],
      "source": [
        "from math import sqrt\n",
        "import torch.nn.functional as F\n",
        "\n",
        "def compute_attention(querys, keys, values, is_causal=False):\n",
        "\tdim_k = querys.size(-1) # 16차원수 구하기\n",
        "\tscores = querys @ keys.transpose(-2, -1) / sqrt(dim_k)    # @ 행렬곱 쿼리 곱하기 키 값 나누기 차원의 수의 제곱근\n",
        "\tweights = F.softmax(scores, dim=-1)          # 어떤 토큰에 얼만큼 집중할지 확률값(가중치) 만들기\n",
        "\treturn weights @ values"
      ]
    },
    {
      "cell_type": "markdown",
      "metadata": {
        "id": "CzHY8tvlkiTl"
      },
      "source": [
        "## 예제 2.6. 어텐션 연산의 입력과 출력\n",
        "\n",
        "### 입력과 동일한 형태의 출력"
      ]
    },
    {
      "cell_type": "code",
      "execution_count": 11,
      "metadata": {
        "colab": {
          "base_uri": "https://localhost:8080/"
        },
        "id": "h4evxbjRkfIi",
        "outputId": "5a60b8aa-8886-4b8a-b2f8-05a1a1924025"
      },
      "outputs": [
        {
          "output_type": "stream",
          "name": "stdout",
          "text": [
            "원본 입력 형태:  torch.Size([1, 4, 16])\n",
            "어텐션 적용 후 형태:  torch.Size([1, 4, 16])\n"
          ]
        }
      ],
      "source": [
        "print(\"원본 입력 형태: \", input_embeddings.shape)\n",
        "\n",
        "after_attention_embeddings = compute_attention(querys, keys, values)\n",
        "\n",
        "print(\"어텐션 적용 후 형태: \", after_attention_embeddings.shape)\n",
        "# 원본 입력 형태:  torch.Size([1, 5, 16])\n",
        "# 어텐션 적용 후 형태:  torch.Size([1, 5, 16])"
      ]
    },
    {
      "cell_type": "markdown",
      "metadata": {
        "id": "OKv4X9rsknXs"
      },
      "source": [
        "## 예제 2.7. 어텐션 연산을 수행하는 AttentionHead 클래스\n",
        "### 지금까지 한거 한번에"
      ]
    },
    {
      "cell_type": "code",
      "execution_count": 12,
      "metadata": {
        "id": "3HWTZ4jukn5p"
      },
      "outputs": [],
      "source": [
        "class AttentionHead(nn.Module):\n",
        "  def __init__(self, token_embed_dim, head_dim, is_causal=False):\n",
        "    super().__init__()\n",
        "    self.is_causal = is_causal\n",
        "    self.weight_q = nn.Linear(token_embed_dim, head_dim) # 쿼리 벡터 생성을 위한 선형 층\n",
        "    self.weight_k = nn.Linear(token_embed_dim, head_dim) # 키 벡터 생성을 위한 선형 층\n",
        "    self.weight_v = nn.Linear(token_embed_dim, head_dim) # 값 벡터 생성을 위한 선형 층\n",
        "\n",
        "  def forward(self, querys, keys, values):\n",
        "    outputs = compute_attention(\n",
        "        self.weight_q(querys),  # 쿼리 벡터\n",
        "        self.weight_k(keys),    # 키 벡터\n",
        "        self.weight_v(values),  # 값 벡터\n",
        "        is_causal=self.is_causal\n",
        "    )\n",
        "    return outputs\n",
        "\n",
        "attention_head = AttentionHead(embedding_dim, embedding_dim)\n",
        "after_attention_embeddings = attention_head(input_embeddings, input_embeddings, input_embeddings)"
      ]
    },
    {
      "cell_type": "markdown",
      "metadata": {
        "id": "30IXVnNElE2O"
      },
      "source": [
        "## 예제 2.8. 멀티 헤드 어텐션 구현\n",
        "###여러 어텐션의 적용해 성능을 높이자\n",
        "### 토큰 사이의 관계를 여러 측면에서 동시에 고려(n_head 만큼 어텐션 연산 수행)\n",
        "### 여러개의 문장이 있는게 아니라 한 문장에 다양한 관점으로 바로보기 여러개의 관점만큼 가중치가 생김"
      ]
    },
    {
      "cell_type": "code",
      "execution_count": 13,
      "metadata": {
        "colab": {
          "base_uri": "https://localhost:8080/"
        },
        "id": "a-qTbFVMlFND",
        "outputId": "8b86a659-40c6-418b-ee70-925ec941b495"
      },
      "outputs": [
        {
          "output_type": "execute_result",
          "data": {
            "text/plain": [
              "torch.Size([1, 4, 16])"
            ]
          },
          "metadata": {},
          "execution_count": 13
        }
      ],
      "source": [
        "class MultiheadAttention(nn.Module):\n",
        "  def __init__(self, token_embed_dim, d_model, n_head, is_causal=False):\n",
        "    super().__init__()\n",
        "    self.n_head = n_head\n",
        "    self.is_causal = is_causal\n",
        "    self.weight_q = nn.Linear(token_embed_dim, d_model)\n",
        "    self.weight_k = nn.Linear(token_embed_dim, d_model)\n",
        "    self.weight_v = nn.Linear(token_embed_dim, d_model)\n",
        "    self.concat_linear = nn.Linear(d_model, d_model)\n",
        "\n",
        "  def forward(self, querys, keys, values):\n",
        "    B, T, C = querys.size()\n",
        "    querys = self.weight_q(querys).view(B, T, self.n_head, C // self.n_head).transpose(1, 2)\n",
        "    keys = self.weight_k(keys).view(B, T, self.n_head, C // self.n_head).transpose(1, 2)\n",
        "    values = self.weight_v(values).view(B, T, self.n_head, C // self.n_head).transpose(1, 2)\n",
        "    attention = compute_attention(querys, keys, values, self.is_causal)\n",
        "    output = attention.transpose(1, 2).contiguous().view(B, T, C)\n",
        "    output = self.concat_linear(output)\n",
        "    return output\n",
        "\n",
        "n_head = 4\n",
        "mh_attention = MultiheadAttention(embedding_dim, embedding_dim, n_head)\n",
        "after_attention_embeddings = mh_attention(input_embeddings, input_embeddings, input_embeddings)\n",
        "after_attention_embeddings.shape"
      ]
    },
    {
      "cell_type": "markdown",
      "metadata": {
        "id": "iWtHyqa_mAtB"
      },
      "source": [
        "## 예제 2.9. 층 정규화 코드\n",
        "### 토큰별 벡터를 정규화 토큰의 개수와 상관없이 진행"
      ]
    },
    {
      "cell_type": "code",
      "execution_count": 14,
      "metadata": {
        "colab": {
          "base_uri": "https://localhost:8080/"
        },
        "id": "ikXwtWFBl5zw",
        "outputId": "1f63689a-e3c9-4ef9-d7fa-dff8c0005e13"
      },
      "outputs": [
        {
          "output_type": "execute_result",
          "data": {
            "text/plain": [
              "(tensor([[ 2.9802e-08,  1.4901e-08, -3.7253e-08,  0.0000e+00]]),\n",
              " tensor([[1.0328, 1.0328, 1.0328, 1.0328]]))"
            ]
          },
          "metadata": {},
          "execution_count": 14
        }
      ],
      "source": [
        "norm = nn.LayerNorm(embedding_dim)\n",
        "norm_x = norm(input_embeddings)\n",
        "norm_x.shape # torch.Size([1, 5, 16])\n",
        "\n",
        "norm_x.mean(dim=-1).data, norm_x.std(dim=-1).data\n",
        "\n",
        "# (tensor([[ 2.2352e-08, -1.1176e-08, -7.4506e-09, -3.9116e-08, -1.8626e-08]]),\n",
        "#  tensor([[1.0328, 1.0328, 1.0328, 1.0328, 1.0328]]))"
      ]
    },
    {
      "cell_type": "markdown",
      "metadata": {
        "id": "nkeIvwCYnSOs"
      },
      "source": [
        "## 예제 2.10. 피드 포워드 층 코드\n",
        "### 멀티 헤드 어텐션은 단어 사이의 관계를 파악\n",
        "### 피드 포워드 층은 입력 텍스트 전체를 이해\n",
        "### 선형층, 드롭아웃층, 층정규화, 활성함수로 구성\n",
        "\n",
        "\n",
        "- Self-Attention의 출력(문맥 정보 포함된 벡터)이 →\n",
        "FeedForward 네트워크의 입력으로 들어가서\n",
        "각 토큰을 더 정교하고 의미 있게 표현"
      ]
    },
    {
      "cell_type": "code",
      "execution_count": 15,
      "metadata": {
        "id": "3e9702XvnSrT"
      },
      "outputs": [],
      "source": [
        "class PreLayerNormFeedForward(nn.Module):\n",
        "  def __init__(self, d_model, dim_feedforward, dropout):\n",
        "    super().__init__()\n",
        "    self.linear1 = nn.Linear(d_model, dim_feedforward) # 선형 층 1          d_model > dim_feedforward 선형변환\n",
        "    self.linear2 = nn.Linear(dim_feedforward, d_model) # 선형 층 2          dim_feedward > d_model 원래대로 다시 선형변환\n",
        "    self.dropout1 = nn.Dropout(dropout) # 드랍아웃 층 1\n",
        "    self.dropout2 = nn.Dropout(dropout) # 드랍아웃 층 2\n",
        "    self.activation = nn.GELU() # 활성 함수\n",
        "    self.norm = nn.LayerNorm(d_model) # 층 정규화\n",
        "\n",
        "  def forward(self, src):\n",
        "    x = self.norm(src)    # 사전 정규화\n",
        "    x = x + self.linear2(self.dropout1(self.activation(self.linear1(x))))\n",
        "    x = self.dropout2(x)\n",
        "    return x"
      ]
    },
    {
      "cell_type": "markdown",
      "metadata": {
        "id": "qq3eJqRInWWS"
      },
      "source": [
        "## 예제 2.11. 인코더 층"
      ]
    },
    {
      "cell_type": "code",
      "execution_count": 16,
      "metadata": {
        "id": "QNCFpdVknUVa"
      },
      "outputs": [],
      "source": [
        "class TransformerEncoderLayer(nn.Module):\n",
        "  def __init__(self, d_model, nhead, dim_feedforward, dropout):\n",
        "    super().__init__()\n",
        "    self.attn = MultiheadAttention(d_model, d_model, nhead) # 멀티 헤드 어텐션 클래스\n",
        "    self.norm1 = nn.LayerNorm(d_model) # 층 정규화\n",
        "    self.dropout1 = nn.Dropout(dropout) # 드랍아웃\n",
        "    self.feed_forward = PreLayerNormFeedForward(d_model, dim_feedforward, dropout) # 피드포워드\n",
        "\n",
        "  def forward(self, src):\n",
        "    norm_x = self.norm1(src)\n",
        "    attn_output = self.attn(norm_x, norm_x, norm_x)\n",
        "    x = src + self.dropout1(attn_output) # 잔차 연결\n",
        "\n",
        "    # 피드 포워드\n",
        "    x = self.feed_forward(x)\n",
        "    return x"
      ]
    },
    {
      "cell_type": "markdown",
      "metadata": {
        "id": "W7acyE0lnc5L"
      },
      "source": [
        "## 예제 2.12. 인코더 구현"
      ]
    },
    {
      "cell_type": "code",
      "execution_count": 17,
      "metadata": {
        "id": "Ty7TTF55nYDr"
      },
      "outputs": [],
      "source": [
        "import copy\n",
        "def get_clones(module, N):\n",
        "  return nn.ModuleList([copy.deepcopy(module) for i in range(N)])\n",
        "\n",
        "class TransformerEncoder(nn.Module):\n",
        "  def __init__(self, encoder_layer, num_layers):\n",
        "    super().__init__()\n",
        "    self.layers = get_clones(encoder_layer, num_layers)\n",
        "    self.num_layers = num_layers\n",
        "    self.norm = norm\n",
        "\n",
        "  def forward(self, src):\n",
        "    output = src\n",
        "    for mod in self.layers:\n",
        "        output = mod(output)\n",
        "    return output"
      ]
    },
    {
      "cell_type": "markdown",
      "metadata": {
        "id": "2dJpZJGrnhMI"
      },
      "source": [
        "## 예제 2.13. 디코더에서 어텐션 연산(마스크 어텐션)"
      ]
    },
    {
      "cell_type": "code",
      "execution_count": 18,
      "metadata": {
        "id": "y2nBX5monelI"
      },
      "outputs": [],
      "source": [
        "def compute_attention(querys, keys, values, is_causal=False):\n",
        "\tdim_k = querys.size(-1) # 16\n",
        "\tscores = querys @ keys.transpose(-2, -1) / sqrt(dim_k) # (1, 5, 5)\n",
        "\tif is_causal:\n",
        "\t\tquery_length = querys.size(2)\n",
        "\t\tkey_length = keys.size(2)\n",
        "\t\ttemp_mask = torch.ones(query_length, key_length, dtype=torch.bool).tril(diagonal=0)            # torch.ones 로 nxn행렬 만들고 .trill로 lower triangular를 만든다 >> 이게 마스크\n",
        "\t\tscores = scores.masked_fill(temp_mask == False, float(\"-inf\"))                                 # 토큰 1은 1행의 [1,0,0,0]만 고려 토큰 2는 2행의 [1,1,0,0]만 고려 이런식으로 미래의 토큰값 고려못하게 함\n",
        "\tweights = F.softmax(scores, dim=-1) # (1, 5, 5)\n",
        "\treturn weights @ values # (1, 5, 16)"
      ]
    },
    {
      "cell_type": "markdown",
      "metadata": {
        "id": "5jxCS_lunl_7"
      },
      "source": [
        "## 예제 2.14. 크로스 어텐션이 포함된 디코더 층\n",
        "### 크로스 어텐션 : 디코더에서 입력 문장의 정보를 참고하는 어텐션"
      ]
    },
    {
      "cell_type": "code",
      "execution_count": 19,
      "metadata": {
        "id": "b7youbG9njnW"
      },
      "outputs": [],
      "source": [
        "class TransformerDecoderLayer(nn.Module):\n",
        "  def __init__(self, d_model, nhead, dim_feedforward=2048, dropout=0.1):\n",
        "    super().__init__()\n",
        "    self.self_attn = MultiheadAttention(d_model, d_model, nhead)\n",
        "    self.multihead_attn = MultiheadAttention(d_model, d_model, nhead)\n",
        "    self.feed_forward = PreLayerNormFeedForward(d_model, dim_feedforward, dropout)\n",
        "\n",
        "    self.norm1 = nn.LayerNorm(d_model)\n",
        "    self.norm2 = nn.LayerNorm(d_model)\n",
        "    self.dropout1 = nn.Dropout(dropout)\n",
        "    self.dropout2 = nn.Dropout(dropout)\n",
        "\n",
        "  def forward(self, tgt, encoder_output, is_causal=True):\n",
        "    # 셀프 어텐션 연산\n",
        "    x = self.norm1(tgt)\n",
        "    x = x + self.dropout1(self.self_attn(x, x, x, is_causal=is_causal))\n",
        "    # 크로스 어텐션 연산\n",
        "    x = self.norm2(x)\n",
        "    x = x + self.dropout2(self.multihead_attn(x, encoder_output, encoder_output))\n",
        "    # 피드 포워드 연산\n",
        "    x = self.feed_forward(x)\n",
        "    return x"
      ]
    },
    {
      "cell_type": "markdown",
      "metadata": {
        "id": "l218C0ZOnqDO"
      },
      "source": [
        "## 예제 2.15. 디코더 구현"
      ]
    },
    {
      "cell_type": "code",
      "execution_count": 20,
      "metadata": {
        "id": "7meGa10vnnw1"
      },
      "outputs": [],
      "source": [
        "import copy\n",
        "def get_clones(module, N):\n",
        "  return nn.ModuleList([copy.deepcopy(module) for i in range(N)])\n",
        "\n",
        "class TransformerDecoder(nn.Module):\n",
        "  def __init__(self, decoder_layer, num_layers):\n",
        "    super().__init__()\n",
        "    self.layers = get_clones(decoder_layer, num_layers)\n",
        "    self.num_layers = num_layers\n",
        "\n",
        "  def forward(self, tgt, src):\n",
        "    output = tgt\n",
        "    for mod in self.layers:\n",
        "        output = mod(output, src)\n",
        "    return output"
      ]
    }
  ],
  "metadata": {
    "colab": {
      "provenance": []
    },
    "kernelspec": {
      "display_name": "Python 3 (ipykernel)",
      "language": "python",
      "name": "python3"
    },
    "language_info": {
      "codemirror_mode": {
        "name": "ipython",
        "version": 3
      },
      "file_extension": ".py",
      "mimetype": "text/x-python",
      "name": "python",
      "nbconvert_exporter": "python",
      "pygments_lexer": "ipython3",
      "version": "3.11.4"
    }
  },
  "nbformat": 4,
  "nbformat_minor": 0
}